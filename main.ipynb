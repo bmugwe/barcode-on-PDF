{
 "cells": [
  {
   "cell_type": "code",
   "execution_count": null,
   "metadata": {},
   "outputs": [],
   "source": [
    "# Imports \n",
    "from PyPDF2 import PdfReader, PdfWriter\n",
    "from reportlab.pdfgen import canvas\n",
    "from reportlab.lib.pagesizes import letter\n",
    "from reportlab.lib.utils import ImageReader\n",
    "import pandas as pd\n",
    "from barcode import EAN13, EAN8\n",
    "from barcode.writer import ImageWriter\n",
    "import glob"
   ]
  },
  {
   "cell_type": "code",
   "execution_count": null,
   "metadata": {},
   "outputs": [],
   "source": [
    "# Image to pdf\n",
    "def getCodePDF(output_path, image_path):\n",
    "    # Create a new PDF canvas\n",
    "    c = canvas.Canvas(output_path, pagesize=(226, 99))\n",
    "\n",
    "    # Load the image\n",
    "    img = ImageReader(image_path)\n",
    "\n",
    "    # Get the dimensions of the first page in the PDF\n",
    "    width, height = 40, 20\n",
    "\n",
    "    # Set the image position and size\n",
    "    c.drawImage(img, 0, 0, width, height)\n",
    "\n",
    "    # Save the canvas as a new PDF file\n",
    "    c.save()"
   ]
  },
  {
   "cell_type": "code",
   "execution_count": null,
   "metadata": {},
   "outputs": [],
   "source": [
    "# Merge Pdf\n",
    "pdf_path = 'test.pdf'\n",
    "def mergePdf(pdf_path, output_path):\n",
    "    pdf = PdfReader(open(pdf_path, 'rb'))\n",
    "    page = pdf.pages[0]\n",
    "    # Merge the new PDF file with the existing one\n",
    "    output_pdf = PdfWriter()\n",
    "    image_pdf = PdfReader(open(output_path, 'rb'))\n",
    "    \n",
    "    # Add the existing PDF content\n",
    "    for page_num in range(len(pdf.pages)):\n",
    "        output_pdf.add_page(pdf.pages[page_num])\n",
    "    \n",
    "    # Add the image PDF content\n",
    "    for page_num in range(len(image_pdf.pages)):\n",
    "        output_pdf.add_page(image_pdf.pages[page_num])\n",
    "    \n",
    "    # Save the final PDF\n",
    "    with open('edit '+output_path, 'wb') as output_file:\n",
    "        output_pdf.write(output_file)"
   ]
  },
  {
   "cell_type": "code",
   "execution_count": null,
   "metadata": {},
   "outputs": [],
   "source": [
    "def combine_pdfs(pdf_paths, output_path):\n",
    "    output_pdf = PdfWriter()\n",
    "\n",
    "    for pdf_path in pdf_paths:\n",
    "        pdf = PdfReader(open(pdf_path, 'rb'))\n",
    "        \n",
    "        # Add the pages of each PDF to the output PDF\n",
    "        for page_num in range(len(pdf.pages)):\n",
    "            output_pdf.add_page(pdf.pages[page_num])\n",
    "\n",
    "    # Save the final merged PDF\n",
    "    with open(output_path, 'wb') as output_file:\n",
    "        output_pdf.write(output_file)"
   ]
  },
  {
   "cell_type": "code",
   "execution_count": 29,
   "metadata": {},
   "outputs": [],
   "source": [
    "def merge_pdf(pdf_path, output_path, output_name):\n",
    "    pdf = PdfReader(pdf_path)\n",
    "    output_pdf = PdfReader(output_path)\n",
    "\n",
    "    # Get the first page of the output PDF\n",
    "    output_page = output_pdf.pages[0]\n",
    "\n",
    "    # Merge the output page with each page of the original PDF\n",
    "    for page_num in range(len(pdf.pages)):\n",
    "        page = pdf.pages[page_num]\n",
    "        page.merge_page(output_page)\n",
    "\n",
    "    # Save the modified PDF\n",
    "    with open(f'codepdf/{output_name}.pdf', 'wb') as output_file:\n",
    "        writer = PdfWriter()\n",
    "        for page in pdf.pages:\n",
    "            writer.add_page(page)\n",
    "        writer.write(output_file)"
   ]
  },
  {
   "cell_type": "code",
   "execution_count": 22,
   "metadata": {},
   "outputs": [],
   "source": [
    "barcode_list = pd.read_excel('Bar codes.xlsx', sheet_name='unpivot')\n",
    "unique_countys = barcode_list['county'].unique()[:10]"
   ]
  },
  {
   "cell_type": "code",
   "execution_count": null,
   "metadata": {},
   "outputs": [],
   "source": [
    "# Get pic barcode\n",
    "def saveBarcodePic(Number):\n",
    "    EAN8(Number, writer=ImageWriter()).save(f'barcodes/{Number}')"
   ]
  },
  {
   "cell_type": "code",
   "execution_count": 26,
   "metadata": {},
   "outputs": [],
   "source": [
    "\n",
    "# Generate barcode pdf in batch\n",
    "for code in barcode_list['modified']:\n",
    "    saveBarcodePic(str(code))"
   ]
  },
  {
   "cell_type": "code",
   "execution_count": 30,
   "metadata": {},
   "outputs": [
    {
     "name": "stdout",
     "output_type": "stream",
     "text": [
      "10\n",
      "4707001 0\n",
      "4707002 0\n",
      "4707003 0\n",
      "4707004 0\n",
      "4707005 0\n",
      "4707006 0\n",
      "4707007 0\n",
      "4707008 0\n",
      "4707009 0\n",
      "4707010 0\n",
      "4707011 0\n",
      "4707012 0\n",
      "4707013 0\n",
      "4707014 0\n",
      "4707015 0\n",
      "4707016 0\n",
      "4707017 0\n",
      "4707018 0\n",
      "4707019 0\n",
      "4707020 0\n",
      "4707021 0\n",
      "4707022 0\n",
      "4707023 0\n",
      "4707024 0\n",
      "4707025 0\n",
      "4707026 0\n",
      "4707027 0\n",
      "4707028 0\n",
      "4707029 0\n",
      "4707030 0\n",
      "4707031 0\n",
      "4707032 0\n",
      "4707033 0\n",
      "4707034 0\n",
      "4707035 0\n",
      "4707036 0\n",
      "4707037 0\n",
      "4707038 0\n",
      "4707039 0\n",
      "4707040 0\n",
      "4707041 0\n",
      "4707042 0\n",
      "4707043 0\n",
      "4707044 0\n",
      "4707045 0\n",
      "4707046 0\n",
      "4707047 0\n",
      "4707048 0\n",
      "4707049 0\n",
      "4707050 0\n",
      "4707051 0\n",
      "4707052 0\n",
      "4707053 0\n",
      "4707054 0\n",
      "4707055 0\n",
      "4707056 0\n",
      "4707057 0\n",
      "4707058 0\n"
     ]
    },
    {
     "ename": "KeyboardInterrupt",
     "evalue": "",
     "output_type": "error",
     "traceback": [
      "\u001b[0;31m---------------------------------------------------------------------------\u001b[0m",
      "\u001b[0;31mKeyboardInterrupt\u001b[0m                         Traceback (most recent call last)",
      "\u001b[1;32m/home/bmugwe/Desktop/Dev/requests/Hannah/main.ipynb Cell 9\u001b[0m in \u001b[0;36m<cell line: 7>\u001b[0;34m()\u001b[0m\n\u001b[1;32m     <a href='vscode-notebook-cell:/home/bmugwe/Desktop/Dev/requests/Hannah/main.ipynb#X11sZmlsZQ%3D%3D?line=12'>13</a>\u001b[0m     path1 \u001b[39m=\u001b[39m \u001b[39mf\u001b[39m\u001b[39m'\u001b[39m\u001b[39mbarcodes/\u001b[39m\u001b[39m{\u001b[39;00mcounty_code\u001b[39m}\u001b[39;00m\u001b[39m.png\u001b[39m\u001b[39m'\u001b[39m\n\u001b[1;32m     <a href='vscode-notebook-cell:/home/bmugwe/Desktop/Dev/requests/Hannah/main.ipynb#X11sZmlsZQ%3D%3D?line=13'>14</a>\u001b[0m     path3 \u001b[39m=\u001b[39m \u001b[39mf\u001b[39m\u001b[39m'\u001b[39m\u001b[39mbarcodespdf/\u001b[39m\u001b[39m{\u001b[39;00mcounty_code\u001b[39m}\u001b[39;00m\u001b[39m.pdf\u001b[39m\u001b[39m'\u001b[39m\n\u001b[0;32m---> <a href='vscode-notebook-cell:/home/bmugwe/Desktop/Dev/requests/Hannah/main.ipynb#X11sZmlsZQ%3D%3D?line=15'>16</a>\u001b[0m     merge_pdf(path2, path3, county_code)\n\u001b[1;32m     <a href='vscode-notebook-cell:/home/bmugwe/Desktop/Dev/requests/Hannah/main.ipynb#X11sZmlsZQ%3D%3D?line=16'>17</a>\u001b[0m     \u001b[39m# getCodePDF(path3, path1)\u001b[39;00m\n\u001b[1;32m     <a href='vscode-notebook-cell:/home/bmugwe/Desktop/Dev/requests/Hannah/main.ipynb#X11sZmlsZQ%3D%3D?line=17'>18</a>\u001b[0m \n\u001b[1;32m     <a href='vscode-notebook-cell:/home/bmugwe/Desktop/Dev/requests/Hannah/main.ipynb#X11sZmlsZQ%3D%3D?line=18'>19</a>\u001b[0m     \u001b[39m# writer.add_page(county_page)\u001b[39;00m\n\u001b[1;32m     <a href='vscode-notebook-cell:/home/bmugwe/Desktop/Dev/requests/Hannah/main.ipynb#X11sZmlsZQ%3D%3D?line=19'>20</a>\u001b[0m     \u001b[39m# with open(f'pdf/{county_code}.pdf', 'wb') as file:\u001b[39;00m\n\u001b[1;32m     <a href='vscode-notebook-cell:/home/bmugwe/Desktop/Dev/requests/Hannah/main.ipynb#X11sZmlsZQ%3D%3D?line=20'>21</a>\u001b[0m     \u001b[39m#     writer.write(file)\u001b[39;00m\n\u001b[1;32m     <a href='vscode-notebook-cell:/home/bmugwe/Desktop/Dev/requests/Hannah/main.ipynb#X11sZmlsZQ%3D%3D?line=23'>24</a>\u001b[0m idx \u001b[39m+\u001b[39m\u001b[39m=\u001b[39m \u001b[39m1\u001b[39m\n",
      "\u001b[1;32m/home/bmugwe/Desktop/Dev/requests/Hannah/main.ipynb Cell 9\u001b[0m in \u001b[0;36mmerge_pdf\u001b[0;34m(pdf_path, output_path, output_name)\u001b[0m\n\u001b[1;32m      <a href='vscode-notebook-cell:/home/bmugwe/Desktop/Dev/requests/Hannah/main.ipynb#X11sZmlsZQ%3D%3D?line=8'>9</a>\u001b[0m \u001b[39mfor\u001b[39;00m page_num \u001b[39min\u001b[39;00m \u001b[39mrange\u001b[39m(\u001b[39mlen\u001b[39m(pdf\u001b[39m.\u001b[39mpages)):\n\u001b[1;32m     <a href='vscode-notebook-cell:/home/bmugwe/Desktop/Dev/requests/Hannah/main.ipynb#X11sZmlsZQ%3D%3D?line=9'>10</a>\u001b[0m     page \u001b[39m=\u001b[39m pdf\u001b[39m.\u001b[39mpages[page_num]\n\u001b[0;32m---> <a href='vscode-notebook-cell:/home/bmugwe/Desktop/Dev/requests/Hannah/main.ipynb#X11sZmlsZQ%3D%3D?line=10'>11</a>\u001b[0m     page\u001b[39m.\u001b[39;49mmerge_page(output_page)\n\u001b[1;32m     <a href='vscode-notebook-cell:/home/bmugwe/Desktop/Dev/requests/Hannah/main.ipynb#X11sZmlsZQ%3D%3D?line=12'>13</a>\u001b[0m \u001b[39m# Save the modified PDF\u001b[39;00m\n\u001b[1;32m     <a href='vscode-notebook-cell:/home/bmugwe/Desktop/Dev/requests/Hannah/main.ipynb#X11sZmlsZQ%3D%3D?line=13'>14</a>\u001b[0m \u001b[39mwith\u001b[39;00m \u001b[39mopen\u001b[39m(\u001b[39mf\u001b[39m\u001b[39m'\u001b[39m\u001b[39mcodepdf/\u001b[39m\u001b[39m{\u001b[39;00moutput_name\u001b[39m}\u001b[39;00m\u001b[39m.pdf\u001b[39m\u001b[39m'\u001b[39m, \u001b[39m'\u001b[39m\u001b[39mwb\u001b[39m\u001b[39m'\u001b[39m) \u001b[39mas\u001b[39;00m output_file:\n",
      "File \u001b[0;32m~/.local/lib/python3.10/site-packages/PyPDF2/_page.py:685\u001b[0m, in \u001b[0;36mPageObject.merge_page\u001b[0;34m(self, page2, expand)\u001b[0m\n\u001b[1;32m    669\u001b[0m \u001b[39mdef\u001b[39;00m \u001b[39mmerge_page\u001b[39m(\u001b[39mself\u001b[39m, page2: \u001b[39m\"\u001b[39m\u001b[39mPageObject\u001b[39m\u001b[39m\"\u001b[39m, expand: \u001b[39mbool\u001b[39m \u001b[39m=\u001b[39m \u001b[39mFalse\u001b[39;00m) \u001b[39m-\u001b[39m\u001b[39m>\u001b[39m \u001b[39mNone\u001b[39;00m:\n\u001b[1;32m    670\u001b[0m     \u001b[39m\"\"\"\u001b[39;00m\n\u001b[1;32m    671\u001b[0m \u001b[39m    Merge the content streams of two pages into one.\u001b[39;00m\n\u001b[1;32m    672\u001b[0m \n\u001b[0;32m   (...)\u001b[0m\n\u001b[1;32m    683\u001b[0m \u001b[39m            expanded to accommodate the dimensions of the page to be merged.\u001b[39;00m\n\u001b[1;32m    684\u001b[0m \u001b[39m    \"\"\"\u001b[39;00m\n\u001b[0;32m--> 685\u001b[0m     \u001b[39mself\u001b[39;49m\u001b[39m.\u001b[39;49m_merge_page(page2, expand\u001b[39m=\u001b[39;49mexpand)\n",
      "File \u001b[0;32m~/.local/lib/python3.10/site-packages/PyPDF2/_page.py:792\u001b[0m, in \u001b[0;36mPageObject._merge_page\u001b[0;34m(self, page2, page2transformation, ctm, expand)\u001b[0m\n\u001b[1;32m    789\u001b[0m \u001b[39mif\u001b[39;00m expand:\n\u001b[1;32m    790\u001b[0m     \u001b[39mself\u001b[39m\u001b[39m.\u001b[39m_expand_mediabox(page2, ctm)\n\u001b[0;32m--> 792\u001b[0m \u001b[39mself\u001b[39m[NameObject(PG\u001b[39m.\u001b[39mCONTENTS)] \u001b[39m=\u001b[39m ContentStream(new_content_array, \u001b[39mself\u001b[39;49m\u001b[39m.\u001b[39;49mpdf)\n\u001b[1;32m    793\u001b[0m \u001b[39mself\u001b[39m[NameObject(PG\u001b[39m.\u001b[39mRESOURCES)] \u001b[39m=\u001b[39m new_resources\n\u001b[1;32m    794\u001b[0m \u001b[39mself\u001b[39m[NameObject(PG\u001b[39m.\u001b[39mANNOTS)] \u001b[39m=\u001b[39m new_annots\n",
      "File \u001b[0;32m~/.local/lib/python3.10/site-packages/PyPDF2/generic/_data_structures.py:877\u001b[0m, in \u001b[0;36mContentStream.__init__\u001b[0;34m(self, stream, pdf, forced_encoding)\u001b[0m\n\u001b[1;32m    875\u001b[0m     stream_bytes \u001b[39m=\u001b[39m BytesIO(stream_data_bytes)\n\u001b[1;32m    876\u001b[0m \u001b[39mself\u001b[39m\u001b[39m.\u001b[39mforced_encoding \u001b[39m=\u001b[39m forced_encoding\n\u001b[0;32m--> 877\u001b[0m \u001b[39mself\u001b[39;49m\u001b[39m.\u001b[39;49m__parse_content_stream(stream_bytes)\n",
      "File \u001b[0;32m~/.local/lib/python3.10/site-packages/PyPDF2/generic/_data_structures.py:943\u001b[0m, in \u001b[0;36mContentStream.__parse_content_stream\u001b[0;34m(self, stream)\u001b[0m\n\u001b[1;32m    941\u001b[0m         peek \u001b[39m=\u001b[39m stream\u001b[39m.\u001b[39mread(\u001b[39m1\u001b[39m)\n\u001b[1;32m    942\u001b[0m \u001b[39melse\u001b[39;00m:\n\u001b[0;32m--> 943\u001b[0m     operands\u001b[39m.\u001b[39mappend(read_object(stream, \u001b[39mNone\u001b[39;49;00m, \u001b[39mself\u001b[39;49m\u001b[39m.\u001b[39;49mforced_encoding))\n",
      "File \u001b[0;32m~/.local/lib/python3.10/site-packages/PyPDF2/generic/_data_structures.py:1077\u001b[0m, in \u001b[0;36mread_object\u001b[0;34m(stream, pdf, forced_encoding)\u001b[0m\n\u001b[1;32m   1075\u001b[0m         \u001b[39mreturn\u001b[39;00m IndirectObject\u001b[39m.\u001b[39mread_from_stream(stream, pdf)\n\u001b[1;32m   1076\u001b[0m     \u001b[39melse\u001b[39;00m:\n\u001b[0;32m-> 1077\u001b[0m         \u001b[39mreturn\u001b[39;00m NumberObject\u001b[39m.\u001b[39;49mread_from_stream(stream)\n\u001b[1;32m   1078\u001b[0m \u001b[39melse\u001b[39;00m:\n\u001b[1;32m   1079\u001b[0m     stream\u001b[39m.\u001b[39mseek(\u001b[39m-\u001b[39m\u001b[39m20\u001b[39m, \u001b[39m1\u001b[39m)\n",
      "File \u001b[0;32m~/.local/lib/python3.10/site-packages/PyPDF2/generic/_base.py:405\u001b[0m, in \u001b[0;36mNumberObject.read_from_stream\u001b[0;34m(stream)\u001b[0m\n\u001b[1;32m    403\u001b[0m \u001b[39m@staticmethod\u001b[39m\n\u001b[1;32m    404\u001b[0m \u001b[39mdef\u001b[39;00m \u001b[39mread_from_stream\u001b[39m(stream: StreamType) \u001b[39m-\u001b[39m\u001b[39m>\u001b[39m Union[\u001b[39m\"\u001b[39m\u001b[39mNumberObject\u001b[39m\u001b[39m\"\u001b[39m, \u001b[39m\"\u001b[39m\u001b[39mFloatObject\u001b[39m\u001b[39m\"\u001b[39m]:\n\u001b[0;32m--> 405\u001b[0m     num \u001b[39m=\u001b[39m read_until_regex(stream, NumberObject\u001b[39m.\u001b[39;49mNumberPattern)\n\u001b[1;32m    406\u001b[0m     \u001b[39mif\u001b[39;00m num\u001b[39m.\u001b[39mfind(\u001b[39mb\u001b[39m\u001b[39m\"\u001b[39m\u001b[39m.\u001b[39m\u001b[39m\"\u001b[39m) \u001b[39m!=\u001b[39m \u001b[39m-\u001b[39m\u001b[39m1\u001b[39m:\n\u001b[1;32m    407\u001b[0m         \u001b[39mreturn\u001b[39;00m FloatObject(num)\n",
      "File \u001b[0;32m~/.local/lib/python3.10/site-packages/PyPDF2/_utils.py:156\u001b[0m, in \u001b[0;36mread_until_regex\u001b[0;34m(stream, regex, ignore_eof)\u001b[0m\n\u001b[1;32m    154\u001b[0m name \u001b[39m=\u001b[39m \u001b[39mb\u001b[39m\u001b[39m\"\u001b[39m\u001b[39m\"\u001b[39m\n\u001b[1;32m    155\u001b[0m \u001b[39mwhile\u001b[39;00m \u001b[39mTrue\u001b[39;00m:\n\u001b[0;32m--> 156\u001b[0m     tok \u001b[39m=\u001b[39m stream\u001b[39m.\u001b[39;49mread(\u001b[39m16\u001b[39;49m)\n\u001b[1;32m    157\u001b[0m     \u001b[39mif\u001b[39;00m \u001b[39mnot\u001b[39;00m tok:\n\u001b[1;32m    158\u001b[0m         \u001b[39mif\u001b[39;00m ignore_eof:\n",
      "\u001b[0;31mKeyboardInterrupt\u001b[0m: "
     ]
    }
   ],
   "source": [
    "county_pdf= PdfReader('County Stickers.pdf')\n",
    "len(county_pdf.pages)\n",
    "print(len(unique_countys))\n",
    "writer = PdfWriter()\n",
    "\n",
    "idx=0\n",
    "for unique_county in unique_countys:\n",
    "    county_codes = barcode_list[barcode_list['county']==unique_county]['modified']\n",
    "    county_page = county_pdf.pages[idx]\n",
    "    for county_code in county_codes:\n",
    "        print(f'{county_code} {idx}')\n",
    "        path2 = f'pdf/{county_code}.pdf'\n",
    "        path1 = f'barcodes/{county_code}.png'\n",
    "        path3 = f'barcodespdf/{county_code}.pdf'\n",
    "\n",
    "        merge_pdf(path2, path3, county_code)\n",
    "        # getCodePDF(path3, path1)\n",
    "\n",
    "        # writer.add_page(county_page)\n",
    "        # with open(f'pdf/{county_code}.pdf', 'wb') as file:\n",
    "        #     writer.write(file)\n",
    "\n",
    "\n",
    "    idx += 1"
   ]
  },
  {
   "cell_type": "code",
   "execution_count": null,
   "metadata": {},
   "outputs": [
    {
     "data": {
      "text/plain": [
       "array(['Nairobi', 'Uasin Gishu', 'Nakuru', 'Baringo', 'Bomet', 'Busia',\n",
       "       'Elgeyo Marakwet', 'Embu', 'Homabay', 'Kajiado'], dtype=object)"
      ]
     },
     "execution_count": 23,
     "metadata": {},
     "output_type": "execute_result"
    }
   ],
   "source": [
    "current = glob.glob(\"codepdf/*.pdf\")\n",
    "\n",
    "combine_pdfs(current, \"1-10_pdfs.pdf\")"
   ]
  }
 ],
 "metadata": {
  "kernelspec": {
   "display_name": "Python 3",
   "language": "python",
   "name": "python3"
  },
  "language_info": {
   "codemirror_mode": {
    "name": "ipython",
    "version": 3
   },
   "file_extension": ".py",
   "mimetype": "text/x-python",
   "name": "python",
   "nbconvert_exporter": "python",
   "pygments_lexer": "ipython3",
   "version": "3.10.6"
  },
  "orig_nbformat": 4
 },
 "nbformat": 4,
 "nbformat_minor": 2
}
